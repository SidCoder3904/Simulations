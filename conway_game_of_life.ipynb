{
 "cells": [
  {
   "cell_type": "markdown",
   "metadata": {},
   "source": [
    "*Conways Game of Life*"
   ]
  },
  {
   "cell_type": "code",
   "execution_count": 30,
   "metadata": {},
   "outputs": [],
   "source": [
    "# import libraries\n",
    "import numpy as np\n",
    "import matplotlib.pyplot as plt\n",
    "import random\n",
    "import time\n",
    "from matplotlib.animation import FuncAnimation\n",
    "from itertools import count"
   ]
  },
  {
   "cell_type": "code",
   "execution_count": 31,
   "metadata": {},
   "outputs": [],
   "source": [
    "# setup hyperparameters\n",
    "n=20   # grid size"
   ]
  },
  {
   "cell_type": "code",
   "execution_count": 32,
   "metadata": {},
   "outputs": [],
   "source": [
    "def Neighbour(Grid, i, j):\n",
    "    D = 0\n",
    "    try:\n",
    "        D += Grid[i-1,j]\n",
    "    except IndexError:\n",
    "        pass\n",
    "    try:\n",
    "        D += Grid[i+1,j]\n",
    "    except IndexError:\n",
    "        pass\n",
    "    try:\n",
    "        D += Grid[i,j-1]\n",
    "    except IndexError:\n",
    "        pass\n",
    "    try:\n",
    "        D += Grid[i,j+1]\n",
    "    except IndexError:\n",
    "        pass\n",
    "    try:\n",
    "        D += Grid[i+1,j+1]\n",
    "    except IndexError:\n",
    "        pass\n",
    "    try:\n",
    "        D += Grid[i-1,j+1]\n",
    "    except IndexError:\n",
    "        pass\n",
    "    try:\n",
    "        D += Grid[i+1,j-1]\n",
    "    except IndexError:\n",
    "        pass\n",
    "    try:\n",
    "        D += Grid[i-1,j-1]\n",
    "    except IndexError:\n",
    "        pass\n",
    "    return int(D)"
   ]
  },
  {
   "cell_type": "code",
   "execution_count": 33,
   "metadata": {},
   "outputs": [],
   "source": [
    "def Grow(Grid):\n",
    "    ResGrid = np.zeros((n,n))\n",
    "    for i in range(n):\n",
    "        for j in range(n):\n",
    "            D = Neighbour(Grid, i, j)\n",
    "            if Grid[i, j]==0 :\n",
    "                if D==3: ResGrid[i, j] = 1\n",
    "            else :\n",
    "                if D==2 or D==3: ResGrid[i, j] = 1\n",
    "    return ResGrid"
   ]
  },
  {
   "cell_type": "code",
   "execution_count": 34,
   "metadata": {},
   "outputs": [],
   "source": [
    "# setup initial conditions\n",
    "Grid = np.zeros((n,n))\n",
    "for i in range(n):\n",
    "    for j in range(n):\n",
    "        Grid[i,j] = random.choice([0, 0, 0, 1])\n",
    "\n",
    "time = count()"
   ]
  },
  {
   "cell_type": "code",
   "execution_count": 35,
   "metadata": {},
   "outputs": [],
   "source": [
    "def animate(i):\n",
    "    global Grid\n",
    "    plt.cla()\n",
    "    plt.imshow(Grid, cmap='gray')\n",
    "    Grid = Grow(Grid)\n",
    "    plt.title('Generation: ' + str(next(time)))"
   ]
  },
  {
   "cell_type": "code",
   "execution_count": 36,
   "metadata": {},
   "outputs": [
    {
     "name": "stderr",
     "output_type": "stream",
     "text": [
      "c:\\Users\\Siddharth\\AppData\\Local\\Programs\\Python\\Python311\\Lib\\site-packages\\matplotlib\\animation.py:884: UserWarning: Animation was deleted without rendering anything. This is most likely not intended. To prevent deletion, assign the Animation to a variable, e.g. `anim`, that exists until you output the Animation using `plt.show()` or `anim.save()`.\n",
      "  warnings.warn(\n"
     ]
    },
    {
     "data": {
      "text/plain": [
       "<Figure size 640x480 with 0 Axes>"
      ]
     },
     "metadata": {},
     "output_type": "display_data"
    }
   ],
   "source": [
    "# updation process\n",
    "anime = FuncAnimation(plt.gcf(), animate, frames=100, interval=1000)\n",
    "plt.show()"
   ]
  },
  {
   "cell_type": "code",
   "execution_count": null,
   "metadata": {},
   "outputs": [],
   "source": []
  }
 ],
 "metadata": {
  "kernelspec": {
   "display_name": "Python 3",
   "language": "python",
   "name": "python3"
  },
  "language_info": {
   "codemirror_mode": {
    "name": "ipython",
    "version": 3
   },
   "file_extension": ".py",
   "mimetype": "text/x-python",
   "name": "python",
   "nbconvert_exporter": "python",
   "pygments_lexer": "ipython3",
   "version": "3.11.4"
  }
 },
 "nbformat": 4,
 "nbformat_minor": 2
}
